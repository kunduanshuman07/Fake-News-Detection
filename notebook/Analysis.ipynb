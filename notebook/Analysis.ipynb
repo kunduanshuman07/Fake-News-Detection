{
 "cells": [
  {
   "cell_type": "markdown",
   "metadata": {},
   "source": [
    "# Data Analysis and preprocessing :"
   ]
  },
  {
   "cell_type": "markdown",
   "metadata": {},
   "source": [
    "## Importing the Libraries"
   ]
  },
  {
   "cell_type": "code",
   "execution_count": 25,
   "metadata": {},
   "outputs": [],
   "source": [
    "import pandas as pd\n",
    "import numpy as np"
   ]
  },
  {
   "cell_type": "markdown",
   "metadata": {},
   "source": [
    "## Reading the News.csv file and extracting basic info"
   ]
  },
  {
   "cell_type": "code",
   "execution_count": 26,
   "metadata": {},
   "outputs": [],
   "source": [
    "df = pd.read_csv('./data/News.csv')"
   ]
  },
  {
   "cell_type": "code",
   "execution_count": 27,
   "metadata": {},
   "outputs": [
    {
     "name": "stdout",
     "output_type": "stream",
     "text": [
      "<class 'pandas.core.frame.DataFrame'>\n",
      "RangeIndex: 44898 entries, 0 to 44897\n",
      "Data columns (total 6 columns):\n",
      " #   Column      Non-Null Count  Dtype \n",
      "---  ------      --------------  ----- \n",
      " 0   Unnamed: 0  44898 non-null  int64 \n",
      " 1   title       44898 non-null  object\n",
      " 2   text        44898 non-null  object\n",
      " 3   subject     44898 non-null  object\n",
      " 4   date        44898 non-null  object\n",
      " 5   label       44898 non-null  int64 \n",
      "dtypes: int64(2), object(4)\n",
      "memory usage: 2.1+ MB\n"
     ]
    }
   ],
   "source": [
    "df.info()"
   ]
  },
  {
   "cell_type": "code",
   "execution_count": 28,
   "metadata": {},
   "outputs": [
    {
     "data": {
      "text/html": [
       "<div>\n",
       "<style scoped>\n",
       "    .dataframe tbody tr th:only-of-type {\n",
       "        vertical-align: middle;\n",
       "    }\n",
       "\n",
       "    .dataframe tbody tr th {\n",
       "        vertical-align: top;\n",
       "    }\n",
       "\n",
       "    .dataframe thead th {\n",
       "        text-align: right;\n",
       "    }\n",
       "</style>\n",
       "<table border=\"1\" class=\"dataframe\">\n",
       "  <thead>\n",
       "    <tr style=\"text-align: right;\">\n",
       "      <th></th>\n",
       "      <th>Unnamed: 0</th>\n",
       "      <th>title</th>\n",
       "      <th>text</th>\n",
       "      <th>subject</th>\n",
       "      <th>date</th>\n",
       "      <th>label</th>\n",
       "    </tr>\n",
       "  </thead>\n",
       "  <tbody>\n",
       "    <tr>\n",
       "      <th>0</th>\n",
       "      <td>27245</td>\n",
       "      <td>Bill Maher: Trump’s Orlando Massacre Response...</td>\n",
       "      <td>Donald Trump s response to the horrific massac...</td>\n",
       "      <td>News</td>\n",
       "      <td>June 18, 2016</td>\n",
       "      <td>0</td>\n",
       "    </tr>\n",
       "    <tr>\n",
       "      <th>1</th>\n",
       "      <td>34731</td>\n",
       "      <td>THE YOUNG GIRL THE CLINTONS DESTROYED…Monica L...</td>\n",
       "      <td>In 1998, I lost my reputation and my dignity....</td>\n",
       "      <td>politics</td>\n",
       "      <td>Aug 8, 2016</td>\n",
       "      <td>0</td>\n",
       "    </tr>\n",
       "    <tr>\n",
       "      <th>2</th>\n",
       "      <td>21392</td>\n",
       "      <td>Iran, Saudi Arabia to exchange diplomatic visi...</td>\n",
       "      <td>BEIRUT (Reuters) - Iran and Saudi Arabia will ...</td>\n",
       "      <td>worldnews</td>\n",
       "      <td>August 23, 2017</td>\n",
       "      <td>1</td>\n",
       "    </tr>\n",
       "    <tr>\n",
       "      <th>3</th>\n",
       "      <td>25385</td>\n",
       "      <td>Trump Just Got Dealt A STINGING Blow From His...</td>\n",
       "      <td>The New York Observer, which Ivanka Trump s hu...</td>\n",
       "      <td>News</td>\n",
       "      <td>November 2, 2016</td>\n",
       "      <td>0</td>\n",
       "    </tr>\n",
       "    <tr>\n",
       "      <th>4</th>\n",
       "      <td>30289</td>\n",
       "      <td>Governor Of Texas Unveils Detailed Plan To OV...</td>\n",
       "      <td>There s something stirring in the Deep South t...</td>\n",
       "      <td>News</td>\n",
       "      <td>January 8, 2016</td>\n",
       "      <td>0</td>\n",
       "    </tr>\n",
       "  </tbody>\n",
       "</table>\n",
       "</div>"
      ],
      "text/plain": [
       "   Unnamed: 0                                              title  \\\n",
       "0       27245   Bill Maher: Trump’s Orlando Massacre Response...   \n",
       "1       34731  THE YOUNG GIRL THE CLINTONS DESTROYED…Monica L...   \n",
       "2       21392  Iran, Saudi Arabia to exchange diplomatic visi...   \n",
       "3       25385   Trump Just Got Dealt A STINGING Blow From His...   \n",
       "4       30289   Governor Of Texas Unveils Detailed Plan To OV...   \n",
       "\n",
       "                                                text    subject  \\\n",
       "0  Donald Trump s response to the horrific massac...       News   \n",
       "1   In 1998, I lost my reputation and my dignity....   politics   \n",
       "2  BEIRUT (Reuters) - Iran and Saudi Arabia will ...  worldnews   \n",
       "3  The New York Observer, which Ivanka Trump s hu...       News   \n",
       "4  There s something stirring in the Deep South t...       News   \n",
       "\n",
       "               date  label  \n",
       "0     June 18, 2016      0  \n",
       "1       Aug 8, 2016      0  \n",
       "2  August 23, 2017       1  \n",
       "3  November 2, 2016      0  \n",
       "4   January 8, 2016      0  "
      ]
     },
     "execution_count": 28,
     "metadata": {},
     "output_type": "execute_result"
    }
   ],
   "source": [
    "df.head()"
   ]
  },
  {
   "cell_type": "markdown",
   "metadata": {},
   "source": [
    "## Dealing with null values"
   ]
  },
  {
   "cell_type": "code",
   "execution_count": 29,
   "metadata": {},
   "outputs": [
    {
     "data": {
      "text/plain": [
       "Unnamed: 0    0\n",
       "title         0\n",
       "text          0\n",
       "subject       0\n",
       "date          0\n",
       "label         0\n",
       "dtype: int64"
      ]
     },
     "execution_count": 29,
     "metadata": {},
     "output_type": "execute_result"
    }
   ],
   "source": [
    "df.isnull().sum()"
   ]
  },
  {
   "cell_type": "markdown",
   "metadata": {},
   "source": [
    "## Dropping the columns Unnamed:0 and date which are not required for the model building"
   ]
  },
  {
   "cell_type": "code",
   "execution_count": 30,
   "metadata": {},
   "outputs": [],
   "source": [
    "df = df.drop(columns=['Unnamed: 0', 'date'], axis=1)"
   ]
  },
  {
   "cell_type": "code",
   "execution_count": 31,
   "metadata": {},
   "outputs": [
    {
     "data": {
      "text/html": [
       "<div>\n",
       "<style scoped>\n",
       "    .dataframe tbody tr th:only-of-type {\n",
       "        vertical-align: middle;\n",
       "    }\n",
       "\n",
       "    .dataframe tbody tr th {\n",
       "        vertical-align: top;\n",
       "    }\n",
       "\n",
       "    .dataframe thead th {\n",
       "        text-align: right;\n",
       "    }\n",
       "</style>\n",
       "<table border=\"1\" class=\"dataframe\">\n",
       "  <thead>\n",
       "    <tr style=\"text-align: right;\">\n",
       "      <th></th>\n",
       "      <th>title</th>\n",
       "      <th>text</th>\n",
       "      <th>subject</th>\n",
       "      <th>label</th>\n",
       "    </tr>\n",
       "  </thead>\n",
       "  <tbody>\n",
       "    <tr>\n",
       "      <th>0</th>\n",
       "      <td>Bill Maher: Trump’s Orlando Massacre Response...</td>\n",
       "      <td>Donald Trump s response to the horrific massac...</td>\n",
       "      <td>News</td>\n",
       "      <td>0</td>\n",
       "    </tr>\n",
       "    <tr>\n",
       "      <th>1</th>\n",
       "      <td>THE YOUNG GIRL THE CLINTONS DESTROYED…Monica L...</td>\n",
       "      <td>In 1998, I lost my reputation and my dignity....</td>\n",
       "      <td>politics</td>\n",
       "      <td>0</td>\n",
       "    </tr>\n",
       "    <tr>\n",
       "      <th>2</th>\n",
       "      <td>Iran, Saudi Arabia to exchange diplomatic visi...</td>\n",
       "      <td>BEIRUT (Reuters) - Iran and Saudi Arabia will ...</td>\n",
       "      <td>worldnews</td>\n",
       "      <td>1</td>\n",
       "    </tr>\n",
       "    <tr>\n",
       "      <th>3</th>\n",
       "      <td>Trump Just Got Dealt A STINGING Blow From His...</td>\n",
       "      <td>The New York Observer, which Ivanka Trump s hu...</td>\n",
       "      <td>News</td>\n",
       "      <td>0</td>\n",
       "    </tr>\n",
       "    <tr>\n",
       "      <th>4</th>\n",
       "      <td>Governor Of Texas Unveils Detailed Plan To OV...</td>\n",
       "      <td>There s something stirring in the Deep South t...</td>\n",
       "      <td>News</td>\n",
       "      <td>0</td>\n",
       "    </tr>\n",
       "  </tbody>\n",
       "</table>\n",
       "</div>"
      ],
      "text/plain": [
       "                                               title  \\\n",
       "0   Bill Maher: Trump’s Orlando Massacre Response...   \n",
       "1  THE YOUNG GIRL THE CLINTONS DESTROYED…Monica L...   \n",
       "2  Iran, Saudi Arabia to exchange diplomatic visi...   \n",
       "3   Trump Just Got Dealt A STINGING Blow From His...   \n",
       "4   Governor Of Texas Unveils Detailed Plan To OV...   \n",
       "\n",
       "                                                text    subject  label  \n",
       "0  Donald Trump s response to the horrific massac...       News      0  \n",
       "1   In 1998, I lost my reputation and my dignity....   politics      0  \n",
       "2  BEIRUT (Reuters) - Iran and Saudi Arabia will ...  worldnews      1  \n",
       "3  The New York Observer, which Ivanka Trump s hu...       News      0  \n",
       "4  There s something stirring in the Deep South t...       News      0  "
      ]
     },
     "execution_count": 31,
     "metadata": {},
     "output_type": "execute_result"
    }
   ],
   "source": [
    "df.head()"
   ]
  },
  {
   "cell_type": "markdown",
   "metadata": {},
   "source": [
    "## Creating the content column "
   ]
  },
  {
   "cell_type": "code",
   "execution_count": 32,
   "metadata": {},
   "outputs": [],
   "source": [
    "df['content'] = df['title'] + df['text'] + df['subject']"
   ]
  },
  {
   "cell_type": "code",
   "execution_count": 33,
   "metadata": {},
   "outputs": [
    {
     "data": {
      "text/plain": [
       "0         Bill Maher: Trump’s Orlando Massacre Response...\n",
       "1        THE YOUNG GIRL THE CLINTONS DESTROYED…Monica L...\n",
       "2        Iran, Saudi Arabia to exchange diplomatic visi...\n",
       "3         Trump Just Got Dealt A STINGING Blow From His...\n",
       "4         Governor Of Texas Unveils Detailed Plan To OV...\n",
       "                               ...                        \n",
       "44893    TRUMP DRIVES CRITICS CRAZY: Eliminates Obama’s...\n",
       "44894    France overseas minister says two killed in Fr...\n",
       "44895    House Republicans pursue short-term government...\n",
       "44896     White Nationalist Radio: Trump Gave Us A Pres...\n",
       "44897    MEDIA IMMEDIATELY REPORTS Alleged Killer Of Im...\n",
       "Name: content, Length: 44898, dtype: object"
      ]
     },
     "execution_count": 33,
     "metadata": {},
     "output_type": "execute_result"
    }
   ],
   "source": [
    "df['content']"
   ]
  },
  {
   "cell_type": "markdown",
   "metadata": {},
   "source": [
    "## Creating and seperating the important processed data for model building"
   ]
  },
  {
   "cell_type": "code",
   "execution_count": 34,
   "metadata": {},
   "outputs": [],
   "source": [
    "processed_data = df.drop(columns=['title', 'text', 'subject'], axis = 1)"
   ]
  },
  {
   "cell_type": "code",
   "execution_count": 35,
   "metadata": {},
   "outputs": [],
   "source": [
    "processed_data.to_csv('./data/Processed.csv')"
   ]
  }
 ],
 "metadata": {
  "kernelspec": {
   "display_name": "Python 3",
   "language": "python",
   "name": "python3"
  },
  "language_info": {
   "codemirror_mode": {
    "name": "ipython",
    "version": 3
   },
   "file_extension": ".py",
   "mimetype": "text/x-python",
   "name": "python",
   "nbconvert_exporter": "python",
   "pygments_lexer": "ipython3",
   "version": "3.11.5"
  },
  "orig_nbformat": 4
 },
 "nbformat": 4,
 "nbformat_minor": 2
}
